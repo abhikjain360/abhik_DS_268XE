{
 "cells": [
  {
   "cell_type": "code",
   "execution_count": 1,
   "id": "86306362-a52e-4821-bbf7-e021a86ce0e3",
   "metadata": {},
   "outputs": [],
   "source": [
    "import pandas as pd"
   ]
  },
  {
   "cell_type": "code",
   "execution_count": 2,
   "id": "1d6cb753-9ab8-4133-90cc-7ec35d726cd6",
   "metadata": {},
   "outputs": [],
   "source": [
    "bmtc_df = pd.read_parquet('dataset/BMTC.parquet.gzip')"
   ]
  },
  {
   "cell_type": "code",
   "execution_count": 3,
   "id": "8358cf87-70af-4e67-8d79-cf303444186f",
   "metadata": {},
   "outputs": [
    {
     "data": {
      "text/html": [
       "<div>\n",
       "<style scoped>\n",
       "    .dataframe tbody tr th:only-of-type {\n",
       "        vertical-align: middle;\n",
       "    }\n",
       "\n",
       "    .dataframe tbody tr th {\n",
       "        vertical-align: top;\n",
       "    }\n",
       "\n",
       "    .dataframe thead th {\n",
       "        text-align: right;\n",
       "    }\n",
       "</style>\n",
       "<table border=\"1\" class=\"dataframe\">\n",
       "  <thead>\n",
       "    <tr style=\"text-align: right;\">\n",
       "      <th></th>\n",
       "      <th>BusID</th>\n",
       "      <th>Latitude</th>\n",
       "      <th>Longitude</th>\n",
       "      <th>Speed</th>\n",
       "      <th>Timestamp</th>\n",
       "    </tr>\n",
       "  </thead>\n",
       "  <tbody>\n",
       "    <tr>\n",
       "      <th>0</th>\n",
       "      <td>150212121</td>\n",
       "      <td>13.074558</td>\n",
       "      <td>77.445549</td>\n",
       "      <td>0.0</td>\n",
       "      <td>2019-08-01 07:00:02</td>\n",
       "    </tr>\n",
       "    <tr>\n",
       "      <th>1</th>\n",
       "      <td>150212121</td>\n",
       "      <td>13.074558</td>\n",
       "      <td>77.445549</td>\n",
       "      <td>0.0</td>\n",
       "      <td>2019-08-01 07:00:12</td>\n",
       "    </tr>\n",
       "    <tr>\n",
       "      <th>2</th>\n",
       "      <td>150212121</td>\n",
       "      <td>13.074558</td>\n",
       "      <td>77.445549</td>\n",
       "      <td>0.0</td>\n",
       "      <td>2019-08-01 07:00:22</td>\n",
       "    </tr>\n",
       "    <tr>\n",
       "      <th>3</th>\n",
       "      <td>150212121</td>\n",
       "      <td>13.074558</td>\n",
       "      <td>77.445549</td>\n",
       "      <td>0.0</td>\n",
       "      <td>2019-08-01 07:00:32</td>\n",
       "    </tr>\n",
       "    <tr>\n",
       "      <th>4</th>\n",
       "      <td>150212121</td>\n",
       "      <td>13.074558</td>\n",
       "      <td>77.445549</td>\n",
       "      <td>0.0</td>\n",
       "      <td>2019-08-01 07:00:42</td>\n",
       "    </tr>\n",
       "  </tbody>\n",
       "</table>\n",
       "</div>"
      ],
      "text/plain": [
       "       BusID   Latitude  Longitude  Speed           Timestamp\n",
       "0  150212121  13.074558  77.445549    0.0 2019-08-01 07:00:02\n",
       "1  150212121  13.074558  77.445549    0.0 2019-08-01 07:00:12\n",
       "2  150212121  13.074558  77.445549    0.0 2019-08-01 07:00:22\n",
       "3  150212121  13.074558  77.445549    0.0 2019-08-01 07:00:32\n",
       "4  150212121  13.074558  77.445549    0.0 2019-08-01 07:00:42"
      ]
     },
     "execution_count": 3,
     "metadata": {},
     "output_type": "execute_result"
    }
   ],
   "source": [
    "bmtc_df.head()"
   ]
  },
  {
   "cell_type": "code",
   "execution_count": 4,
   "id": "c53beb01-c8ed-4730-9b09-ef015150b221",
   "metadata": {},
   "outputs": [
    {
     "data": {
      "text/plain": [
       "(13.155129, 12.794401)"
      ]
     },
     "execution_count": 4,
     "metadata": {},
     "output_type": "execute_result"
    }
   ],
   "source": [
    "bmtc_df['Latitude'].max(), bmtc_df['Latitude'].min()"
   ]
  },
  {
   "cell_type": "code",
   "execution_count": 5,
   "id": "9278cfc5-031b-46ef-86ff-2105a7fafaba",
   "metadata": {},
   "outputs": [
    {
     "data": {
      "text/plain": [
       "(77.788345, 77.418175)"
      ]
     },
     "execution_count": 5,
     "metadata": {},
     "output_type": "execute_result"
    }
   ],
   "source": [
    "bmtc_df['Longitude'].max(), bmtc_df['Longitude'].min()"
   ]
  },
  {
   "cell_type": "code",
   "execution_count": 6,
   "id": "45a7578f-0517-4e9c-9e39-e9b8fc88df9a",
   "metadata": {},
   "outputs": [],
   "source": [
    "input_df = pd.read_csv('dataset/Input.csv')"
   ]
  },
  {
   "cell_type": "code",
   "execution_count": 7,
   "id": "4a4c78e5-5b62-438b-9be3-116609d893a4",
   "metadata": {},
   "outputs": [
    {
     "data": {
      "text/html": [
       "<div>\n",
       "<style scoped>\n",
       "    .dataframe tbody tr th:only-of-type {\n",
       "        vertical-align: middle;\n",
       "    }\n",
       "\n",
       "    .dataframe tbody tr th {\n",
       "        vertical-align: top;\n",
       "    }\n",
       "\n",
       "    .dataframe thead th {\n",
       "        text-align: right;\n",
       "    }\n",
       "</style>\n",
       "<table border=\"1\" class=\"dataframe\">\n",
       "  <thead>\n",
       "    <tr style=\"text-align: right;\">\n",
       "      <th></th>\n",
       "      <th>Unnamed: 0</th>\n",
       "      <th>Source_Lat</th>\n",
       "      <th>Source_Long</th>\n",
       "      <th>Dest_Lat</th>\n",
       "      <th>Dest_Long</th>\n",
       "    </tr>\n",
       "  </thead>\n",
       "  <tbody>\n",
       "    <tr>\n",
       "      <th>0</th>\n",
       "      <td>0</td>\n",
       "      <td>12.941644</td>\n",
       "      <td>77.557335</td>\n",
       "      <td>12.942002</td>\n",
       "      <td>77.551605</td>\n",
       "    </tr>\n",
       "    <tr>\n",
       "      <th>1</th>\n",
       "      <td>1</td>\n",
       "      <td>12.845487</td>\n",
       "      <td>77.662079</td>\n",
       "      <td>12.845881</td>\n",
       "      <td>77.667892</td>\n",
       "    </tr>\n",
       "    <tr>\n",
       "      <th>2</th>\n",
       "      <td>2</td>\n",
       "      <td>12.973492</td>\n",
       "      <td>77.622871</td>\n",
       "      <td>12.957303</td>\n",
       "      <td>77.621246</td>\n",
       "    </tr>\n",
       "    <tr>\n",
       "      <th>3</th>\n",
       "      <td>3</td>\n",
       "      <td>12.819298</td>\n",
       "      <td>77.688995</td>\n",
       "      <td>12.814241</td>\n",
       "      <td>77.692986</td>\n",
       "    </tr>\n",
       "    <tr>\n",
       "      <th>4</th>\n",
       "      <td>4</td>\n",
       "      <td>12.973240</td>\n",
       "      <td>77.615402</td>\n",
       "      <td>13.016170</td>\n",
       "      <td>77.627800</td>\n",
       "    </tr>\n",
       "  </tbody>\n",
       "</table>\n",
       "</div>"
      ],
      "text/plain": [
       "   Unnamed: 0  Source_Lat  Source_Long   Dest_Lat  Dest_Long\n",
       "0           0   12.941644    77.557335  12.942002  77.551605\n",
       "1           1   12.845487    77.662079  12.845881  77.667892\n",
       "2           2   12.973492    77.622871  12.957303  77.621246\n",
       "3           3   12.819298    77.688995  12.814241  77.692986\n",
       "4           4   12.973240    77.615402  13.016170  77.627800"
      ]
     },
     "execution_count": 7,
     "metadata": {},
     "output_type": "execute_result"
    }
   ],
   "source": [
    "input_df.head()"
   ]
  },
  {
   "cell_type": "code",
   "execution_count": 8,
   "id": "22cb631e-d260-4ad7-8890-697ab9cff538",
   "metadata": {},
   "outputs": [
    {
     "data": {
      "text/plain": [
       "(12.794401, 13.155079)"
      ]
     },
     "execution_count": 8,
     "metadata": {},
     "output_type": "execute_result"
    }
   ],
   "source": [
    "input_df['Source_Lat'].min(), input_df['Source_Lat'].max()"
   ]
  },
  {
   "cell_type": "code",
   "execution_count": 9,
   "id": "561bfae4-442b-4796-846d-62acec413b96",
   "metadata": {},
   "outputs": [
    {
     "data": {
      "text/plain": [
       "(77.418312, 77.788261)"
      ]
     },
     "execution_count": 9,
     "metadata": {},
     "output_type": "execute_result"
    }
   ],
   "source": [
    "input_df['Source_Long'].min(), input_df['Source_Long'].max()"
   ]
  },
  {
   "cell_type": "code",
   "execution_count": 14,
   "id": "d68b6976-c960-4463-92e7-f60f469b8899",
   "metadata": {},
   "outputs": [],
   "source": [
    "lat_start, lat_end, lon_start, lon_end = 77.35, 77.85, 12.7, 13.8"
   ]
  },
  {
   "cell_type": "code",
   "execution_count": 18,
   "id": "a77082e4-bc6f-41ea-8079-9a06d478e652",
   "metadata": {},
   "outputs": [
    {
     "name": "stdout",
     "output_type": "stream",
     "text": [
      "77.35 77.44999999999999 12.7 12.799999999999999\n",
      "77.35 77.44999999999999 12.799999999999999 12.899999999999999\n",
      "77.35 77.44999999999999 12.899999999999999 12.999999999999998\n",
      "77.35 77.44999999999999 13.0 13.1\n",
      "77.35 77.44999999999999 13.1 13.2\n",
      "77.44999999999999 77.54999999999998 12.7 12.799999999999999\n",
      "77.44999999999999 77.54999999999998 12.799999999999999 12.899999999999999\n",
      "77.44999999999999 77.54999999999998 12.899999999999999 12.999999999999998\n",
      "77.44999999999999 77.54999999999998 13.0 13.1\n",
      "77.44999999999999 77.54999999999998 13.1 13.2\n",
      "77.55 77.64999999999999 12.7 12.799999999999999\n",
      "77.55 77.64999999999999 12.799999999999999 12.899999999999999\n",
      "77.55 77.64999999999999 12.899999999999999 12.999999999999998\n",
      "77.55 77.64999999999999 13.0 13.1\n",
      "77.55 77.64999999999999 13.1 13.2\n",
      "77.64999999999999 77.74999999999999 12.7 12.799999999999999\n",
      "77.64999999999999 77.74999999999999 12.799999999999999 12.899999999999999\n",
      "77.64999999999999 77.74999999999999 12.899999999999999 12.999999999999998\n",
      "77.64999999999999 77.74999999999999 13.0 13.1\n",
      "77.64999999999999 77.74999999999999 13.1 13.2\n",
      "77.75 77.85 12.7 12.799999999999999\n",
      "77.75 77.85 12.799999999999999 12.899999999999999\n",
      "77.75 77.85 12.899999999999999 12.999999999999998\n",
      "77.75 77.85 13.0 13.1\n",
      "77.75 77.85 13.1 13.2\n"
     ]
    }
   ],
   "source": [
    "for i in range(5):\n",
    "    lat_add = i * 0.1\n",
    "    for j in range(5):\n",
    "        lon_add = j * 0.1\n",
    "        print(lat_start + lat_add, lat_start + lat_add + 0.1, lon_start + lon_add, lon_start + lon_add + 0.1)"
   ]
  },
  {
   "cell_type": "code",
   "execution_count": null,
   "id": "049bcdb0-b637-4a39-896d-a9cb3934d044",
   "metadata": {},
   "outputs": [],
   "source": []
  }
 ],
 "metadata": {
  "kernelspec": {
   "display_name": "Python 3 (ipykernel)",
   "language": "python",
   "name": "python3"
  },
  "language_info": {
   "codemirror_mode": {
    "name": "ipython",
    "version": 3
   },
   "file_extension": ".py",
   "mimetype": "text/x-python",
   "name": "python",
   "nbconvert_exporter": "python",
   "pygments_lexer": "ipython3",
   "version": "3.10.8"
  }
 },
 "nbformat": 4,
 "nbformat_minor": 5
}
